{
 "cells": [
  {
   "cell_type": "code",
   "execution_count": null,
   "metadata": {
    "colab": {
     "base_uri": "https://localhost:8080/"
    },
    "executionInfo": {
     "elapsed": 2745,
     "status": "ok",
     "timestamp": 1666428056584,
     "user": {
      "displayName": "Jiamin Shen",
      "userId": "08615994257903201762"
     },
     "user_tz": -480
    },
    "id": "jw8dYXjv2Vob",
    "outputId": "c3a861e4-294a-4e35-80af-be8215201ac4"
   },
   "outputs": [],
   "source": [
    "fname = \"20221022-162507.lin.csv\"\n",
    "\n",
    "try:\n",
    "    from google.colab import drive\n",
    "\n",
    "    drive.mount(\"/content/drive\")\n",
    "    fname = f\"/content/drive/MyDrive/CNFE/{fname}\"\n",
    "except ModuleNotFoundError:\n",
    "    pass\n",
    "\n",
    "fname"
   ]
  },
  {
   "cell_type": "code",
   "execution_count": null,
   "metadata": {
    "executionInfo": {
     "elapsed": 2,
     "status": "ok",
     "timestamp": 1666428056584,
     "user": {
      "displayName": "Jiamin Shen",
      "userId": "08615994257903201762"
     },
     "user_tz": -480
    },
    "id": "blscI6wX2j1m"
   },
   "outputs": [],
   "source": [
    "import numpy as np\n",
    "import pandas as pd\n",
    "from matplotlib import pyplot as plt\n",
    "from matplotlib.ticker import PercentFormatter\n",
    "from matplotlib.scale import LogScale\n",
    "from pathlib import Path\n",
    "import shutil\n",
    "\n",
    "\n",
    "WORKDIR = Path(Path(fname).stem)\n",
    "if WORKDIR.is_dir():\n",
    "    shutil.rmtree(WORKDIR)\n",
    "WORKDIR.mkdir()\n",
    "\n",
    "WRITER = pd.ExcelWriter(WORKDIR / Path(fname).with_suffix(\".xlsx\"))"
   ]
  },
  {
   "cell_type": "code",
   "execution_count": null,
   "metadata": {
    "colab": {
     "base_uri": "https://localhost:8080/",
     "height": 424
    },
    "executionInfo": {
     "elapsed": 665,
     "status": "ok",
     "timestamp": 1666428057247,
     "user": {
      "displayName": "Jiamin Shen",
      "userId": "08615994257903201762"
     },
     "user_tz": -480
    },
    "id": "y3nH-LjS2lAF",
    "outputId": "b86a4561-abbc-4951-81d5-d7648e213326"
   },
   "outputs": [],
   "source": [
    "df = pd.read_csv(fname, index_col=0).dropna()\n",
    "df[\"Setup\"] = df[\"SETUP\"]\n",
    "df[\"DataReg\"] = df[\"DATAREG\"] - df[\"SETUP\"]\n",
    "df[\"Enc\"] = df[\"ENCRYPT\"] - df[\"DATAREG\"]\n",
    "df[\"KeyGen\"] = df[\"KEYGEN\"] - df[\"ENCRYPT\"]\n",
    "df[\"Dec\"] = df[\"DECRYPT\"] - df[\"KEYGEN\"]\n",
    "df[\"diff\"] = df[\"returned\"] - df[\"expected\"]\n",
    "duration_cols = [\"Setup\", \"DataReg\", \"Enc\", \"KeyGen\", \"Dec\"]\n",
    "df[duration_cols] = df[duration_cols] / 1000000\n",
    "\n",
    "df = df[\n",
    "    [\n",
    "        \"ell\",\n",
    "        \"m\",\n",
    "        \"n\",\n",
    "        \"t\",\n",
    "        \"p_1\",\n",
    "        \"p_2\",\n",
    "        \"lam\",\n",
    "        \"q\",\n",
    "        \"sd\",\n",
    "        \"Setup\",\n",
    "        \"DataReg\",\n",
    "        \"Enc\",\n",
    "        \"KeyGen\",\n",
    "        \"Dec\",\n",
    "        \"expected\",\n",
    "        \"returned\",\n",
    "        \"diff\",\n",
    "    ]\n",
    "]\n",
    "df.to_excel(WRITER, sheet_name=\"raw_data\")\n",
    "df"
   ]
  },
  {
   "cell_type": "code",
   "execution_count": null,
   "metadata": {
    "colab": {
     "base_uri": "https://localhost:8080/",
     "height": 548
    },
    "executionInfo": {
     "elapsed": 572,
     "status": "ok",
     "timestamp": 1666428140586,
     "user": {
      "displayName": "Jiamin Shen",
      "userId": "08615994257903201762"
     },
     "user_tz": -480
    },
    "id": "qlXzVjg03kAs",
    "outputId": "13d30b36-d42e-4ff2-abf3-17244622c07e"
   },
   "outputs": [],
   "source": [
    "fig, ax = plt.subplots(1, 1, figsize=(8, 5), dpi=120)\n",
    "ax.hist(df[\"diff\"], bins=12)\n",
    "ax.set_xlabel(\"Noise $e$\")\n",
    "ax.set_ylabel(\"Relative Frequency\")\n",
    "ax.yaxis.set_major_formatter(PercentFormatter(df[\"diff\"].count()))\n",
    "fig.savefig(WORKDIR / \"noise_hist.pdf\")"
   ]
  },
  {
   "cell_type": "code",
   "execution_count": null,
   "metadata": {},
   "outputs": [],
   "source": [
    "df.groupby([\"ell\", \"n\"])[duration_cols].describe().to_excel(\n",
    "    WRITER, sheet_name=\"aggregated\"\n",
    ")\n",
    "\n",
    "data = df.groupby([\"ell\", \"n\"])[duration_cols].mean().reset_index()\n",
    "data[\"ell\"] = np.rint(np.log2(data[\"ell\"])).astype(int)\n",
    "data[\"n\"] = np.rint(np.log2(data[\"n\"])).astype(int)\n",
    "\n",
    "data"
   ]
  },
  {
   "cell_type": "code",
   "execution_count": null,
   "metadata": {
    "colab": {
     "base_uri": "https://localhost:8080/",
     "height": 566
    },
    "executionInfo": {
     "elapsed": 975,
     "status": "ok",
     "timestamp": 1666428058218,
     "user": {
      "displayName": "Jiamin Shen",
      "userId": "08615994257903201762"
     },
     "user_tz": -480
    },
    "id": "UHIQxTeG4DSF",
    "outputId": "bf130540-1442-4e05-b573-f5fecca8b93e"
   },
   "outputs": [],
   "source": [
    "n = 5\n",
    "scope = data[data[\"n\"] == n]\n",
    "\n",
    "fig, ax = plt.subplots(1, 1, figsize=(8, 5), dpi=120)\n",
    "for col, m in zip(duration_cols, \"D*o^s\"):\n",
    "    ax.plot(scope[\"ell\"], scope[col], label=col, marker=m)\n",
    "\n",
    "ax.set_xlabel(\"Size of DataSet $\\ell$ (log of 2)\")\n",
    "ax.set_ylabel(\"Running Time (ms)\")\n",
    "ax.set_yscale(\"log\")\n",
    "ax.legend()\n",
    "fig.savefig(WORKDIR / \"comp_timing.pdf\")"
   ]
  },
  {
   "cell_type": "code",
   "execution_count": null,
   "metadata": {
    "colab": {
     "base_uri": "https://localhost:8080/",
     "height": 591
    },
    "executionInfo": {
     "elapsed": 1277,
     "status": "ok",
     "timestamp": 1666428059493,
     "user": {
      "displayName": "Jiamin Shen",
      "userId": "08615994257903201762"
     },
     "user_tz": -480
    },
    "id": "JmG-5n9h-dPK",
    "outputId": "d9032139-9d29-49d0-8ae2-dc5117cad079"
   },
   "outputs": [],
   "source": [
    "def over_security_parameter(col):\n",
    "    fig, ax = plt.subplots(1, 1, figsize=(8, 5), dpi=120)\n",
    "\n",
    "    pivot = data.pivot(index=\"n\", columns=\"ell\", values=col)\n",
    "    for col in pivot:\n",
    "        ax.plot(pivot[col], label=\"$\\\\ell = 2^{{col}}$\".replace(\"{col}\", str(col)))\n",
    "    ax.set_xlabel(\"Security Parameter $n$ (log of 2)\")\n",
    "    ax.set_ylabel(\"Running Time (ms)\")\n",
    "    ax.set_yscale(\"log\")\n",
    "    ax.legend()\n",
    "\n",
    "    return pivot, fig\n",
    "\n",
    "\n",
    "pivot, fig = over_security_parameter(\"Setup\")\n",
    "pivot.to_excel(WRITER, sheet_name=\"time_n_setup\")\n",
    "fig.savefig(WORKDIR / \"time_n_setup.pdf\")"
   ]
  },
  {
   "cell_type": "code",
   "execution_count": null,
   "metadata": {},
   "outputs": [],
   "source": [
    "pivot, fig = over_security_parameter(\"Enc\")\n",
    "pivot.to_excel(WRITER, sheet_name=\"time_n_enc\")\n",
    "fig.savefig(WORKDIR / \"time_n_enc.pdf\")"
   ]
  },
  {
   "cell_type": "code",
   "execution_count": null,
   "metadata": {},
   "outputs": [],
   "source": [
    "WRITER.close()\n",
    "shutil.make_archive(Path(fname).stem, \"zip\", WORKDIR)"
   ]
  }
 ],
 "metadata": {
  "colab": {
   "authorship_tag": "ABX9TyNlhlJj1vlrArlvdh9FTFVP",
   "collapsed_sections": [],
   "provenance": []
  },
  "kernelspec": {
   "display_name": "Python 3.8.10 64-bit",
   "language": "python",
   "name": "python3"
  },
  "language_info": {
   "codemirror_mode": {
    "name": "ipython",
    "version": 3
   },
   "file_extension": ".py",
   "mimetype": "text/x-python",
   "name": "python",
   "nbconvert_exporter": "python",
   "pygments_lexer": "ipython3",
   "version": "3.10.6"
  },
  "vscode": {
   "interpreter": {
    "hash": "916dbcbb3f70747c44a77c7bcd40155683ae19c65e1c03b4aa3499c5328201f1"
   }
  }
 },
 "nbformat": 4,
 "nbformat_minor": 0
}
